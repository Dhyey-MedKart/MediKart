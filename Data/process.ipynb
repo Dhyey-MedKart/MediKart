{
 "cells": [
  {
   "cell_type": "code",
   "execution_count": 7,
   "metadata": {},
   "outputs": [],
   "source": [
    "import json\n",
    "import pandas as pd\n",
    "import re\n",
    "\n",
    "# Read the JavaScript file\n",
    "with open(r'data.js', 'r') as file:\n",
    "    js_content = file.read()"
   ]
  },
  {
   "cell_type": "code",
   "execution_count": 14,
   "metadata": {},
   "outputs": [
    {
     "name": "stdout",
     "output_type": "stream",
     "text": [
      "Error parsing JSON: Expecting property name enclosed in double quotes: line 3 column 5 (char 10)\n"
     ]
    },
    {
     "ename": "NameError",
     "evalue": "name 'medicines' is not defined",
     "output_type": "error",
     "traceback": [
      "\u001b[1;31m---------------------------------------------------------------------------\u001b[0m",
      "\u001b[1;31mNameError\u001b[0m                                 Traceback (most recent call last)",
      "Cell \u001b[1;32mIn[14], line 1385\u001b[0m\n\u001b[0;32m   1382\u001b[0m     \u001b[38;5;28mprint\u001b[39m(\u001b[38;5;124mf\u001b[39m\u001b[38;5;124m\"\u001b[39m\u001b[38;5;124mError parsing JSON: \u001b[39m\u001b[38;5;132;01m{\u001b[39;00me\u001b[38;5;132;01m}\u001b[39;00m\u001b[38;5;124m\"\u001b[39m) \n\u001b[0;32m   1384\u001b[0m \u001b[38;5;66;03m# Access and use the data\u001b[39;00m\n\u001b[1;32m-> 1385\u001b[0m \u001b[38;5;28;01mfor\u001b[39;00m medicine \u001b[38;5;129;01min\u001b[39;00m \u001b[43mmedicines\u001b[49m:\n\u001b[0;32m   1386\u001b[0m     \u001b[38;5;28mprint\u001b[39m(\u001b[38;5;124mf\u001b[39m\u001b[38;5;124m\"\u001b[39m\u001b[38;5;124mName: \u001b[39m\u001b[38;5;132;01m{\u001b[39;00mmedicine[\u001b[38;5;124m'\u001b[39m\u001b[38;5;124mname\u001b[39m\u001b[38;5;124m'\u001b[39m]\u001b[38;5;132;01m}\u001b[39;00m\u001b[38;5;124m, Dosage: \u001b[39m\u001b[38;5;132;01m{\u001b[39;00mmedicine[\u001b[38;5;124m'\u001b[39m\u001b[38;5;124mdosage\u001b[39m\u001b[38;5;124m'\u001b[39m]\u001b[38;5;132;01m}\u001b[39;00m\u001b[38;5;124m, Frequency: \u001b[39m\u001b[38;5;132;01m{\u001b[39;00mmedicine[\u001b[38;5;124m'\u001b[39m\u001b[38;5;124mfrequency\u001b[39m\u001b[38;5;124m'\u001b[39m]\u001b[38;5;132;01m}\u001b[39;00m\u001b[38;5;124m\"\u001b[39m)\n",
      "\u001b[1;31mNameError\u001b[0m: name 'medicines' is not defined"
     ]
    }
   ],
   "source": [
    "import json\n",
    "\n",
    "# Sample JS data (replace with your actual data)\n",
    "js_data = \"\"\"\n",
    "const sampleMedicins = [\n",
    "  { \"name\": \"Paracetamol\", \"dosage\": \"500mg\", \"frequency\": \"2 times a day\" },\n",
    "  { \"name\": \"Amoxicillin\", \"dosage\": \"500mg\", \"frequency\": \"3 times a day\" },\n",
    "  { \"name\": \"Vitamin C\", \"dosage\": \"1000mg\", \"frequency\": \"once a day\" }\n",
    "];\n",
    "\"\"\"\n",
    "\n",
    "# Extract the actual data from the JS string\n",
    "start_index = js_data.find(\"sampleMedicins = \") + len(\"sampleMedicins = \")\n",
    "end_index = js_data.find(\"];\") + 1 \n",
    "json_string = js_data[start_index:end_index]\n",
    "\n",
    "# Parse the JSON data\n",
    "try:\n",
    "    medicines = json.loads(json_string)\n",
    "    print(medicines)\n",
    "except json.JSONDecodeError as e:\n",
    "    print(f\"Error parsing JSON: {e}\") \n",
    "\n",
    "# Access and use the data\n",
    "for medicine in medicines:\n",
    "    print(f\"Name: {medicine['name']}, Dosage: {medicine['dosage']}, Frequency: {medicine['frequency']}\")"
   ]
  },
  {
   "cell_type": "code",
   "execution_count": null,
   "metadata": {},
   "outputs": [],
   "source": []
  }
 ],
 "metadata": {
  "kernelspec": {
   "display_name": "Python 3",
   "language": "python",
   "name": "python3"
  },
  "language_info": {
   "codemirror_mode": {
    "name": "ipython",
    "version": 3
   },
   "file_extension": ".py",
   "mimetype": "text/x-python",
   "name": "python",
   "nbconvert_exporter": "python",
   "pygments_lexer": "ipython3",
   "version": "3.13.1"
  }
 },
 "nbformat": 4,
 "nbformat_minor": 2
}
